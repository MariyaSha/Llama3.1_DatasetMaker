{
 "cells": [
  {
   "cell_type": "markdown",
   "metadata": {},
   "source": [
    "# Llama3.1 Dataset Maker for Nvidia NIM\n",
    "\n",
    "This notebook is intended to run in a Llama3.1 NIM environment.\n",
    "<br>\n",
    "To set it up, please watch my video tutorial on the topic.\n",
    "\n",
    "## Setup NGC"
   ]
  },
  {
   "cell_type": "code",
   "execution_count": 1,
   "metadata": {},
   "outputs": [
    {
     "name": "stderr",
     "output_type": "stream",
     "text": [
      "--2024-08-01 23:49:09--  https://raw.githubusercontent.com/brevdev/notebooks/main/assets/setup-ngc.sh\n",
      "Resolving raw.githubusercontent.com (raw.githubusercontent.com)... 185.199.110.133, 185.199.108.133, 185.199.109.133, ...\n",
      "Connecting to raw.githubusercontent.com (raw.githubusercontent.com)|185.199.110.133|:443... connected.\n",
      "HTTP request sent, awaiting response... 200 OK\n",
      "Length: 1385 (1.4K) [text/plain]\n",
      "Saving to: ‘setup-ngc’\n",
      "\n",
      "     0K .                                                     100% 45.7M=0s\n",
      "\n",
      "2024-08-01 23:49:09 (45.7 MB/s) - ‘setup-ngc’ saved [1385/1385]\n",
      "\n"
     ]
    },
    {
     "name": "stdout",
     "output_type": "stream",
     "text": [
      "Installing Docker CLI...\n",
      "Hit:1 http://security.ubuntu.com/ubuntu jammy-security InRelease\n",
      "Hit:2 https://developer.download.nvidia.com/compute/cuda/repos/ubuntu2204/x86_64  InRelease\n",
      "Hit:3 https://deb.nodesource.com/node_18.x nodistro InRelease\n",
      "Hit:4 http://archive.ubuntu.com/ubuntu jammy InRelease\n",
      "Get:5 http://archive.ubuntu.com/ubuntu jammy-updates InRelease [128 kB]\n",
      "Hit:6 http://archive.ubuntu.com/ubuntu jammy-backports InRelease\n",
      "Fetched 128 kB in 1s (133 kB/s)\n",
      "Reading package lists...\n",
      "Reading package lists...\n",
      "Building dependency tree...\n",
      "Reading state information...\n",
      "ca-certificates is already the newest version (20230311ubuntu0.22.04.1).\n",
      "curl is already the newest version (7.81.0-1ubuntu1.16).\n",
      "gnupg is already the newest version (2.2.27-3ubuntu2.1).\n",
      "apt-transport-https is already the newest version (2.4.12).\n",
      "The following additional packages will be installed:\n",
      "  distro-info-data\n",
      "The following NEW packages will be installed:\n",
      "  distro-info-data lsb-release\n",
      "0 upgraded, 2 newly installed, 0 to remove and 56 not upgraded.\n",
      "Need to get 16.1 kB of archives.\n",
      "After this operation, 88.1 kB of additional disk space will be used.\n",
      "Get:1 http://archive.ubuntu.com/ubuntu jammy-updates/main amd64 distro-info-data all 0.52ubuntu0.7 [5326 B]\n",
      "Get:2 http://archive.ubuntu.com/ubuntu jammy/main amd64 lsb-release all 11.1.0ubuntu4 [10.8 kB]\n"
     ]
    },
    {
     "name": "stderr",
     "output_type": "stream",
     "text": [
      "debconf: unable to initialize frontend: Dialog\n",
      "debconf: (No usable dialog-like program is installed, so the dialog based frontend cannot be used. at /usr/share/perl5/Debconf/FrontEnd/Dialog.pm line 78, <> line 2.)\n",
      "debconf: falling back to frontend: Readline\n",
      "debconf: unable to initialize frontend: Readline\n",
      "debconf: (This frontend requires a controlling tty.)\n",
      "debconf: falling back to frontend: Teletype\n",
      "dpkg-preconfigure: unable to re-open stdin: \n"
     ]
    },
    {
     "name": "stdout",
     "output_type": "stream",
     "text": [
      "Fetched 16.1 kB in 0s (32.7 kB/s)\n",
      "Selecting previously unselected package distro-info-data.\n",
      "(Reading database ... 38566 files and directories currently installed.)\n",
      "Preparing to unpack .../distro-info-data_0.52ubuntu0.7_all.deb ...\n",
      "Unpacking distro-info-data (0.52ubuntu0.7) ...\n",
      "Selecting previously unselected package lsb-release.\n",
      "Preparing to unpack .../lsb-release_11.1.0ubuntu4_all.deb ...\n",
      "Unpacking lsb-release (11.1.0ubuntu4) ...\n",
      "Setting up distro-info-data (0.52ubuntu0.7) ...\n",
      "Setting up lsb-release (11.1.0ubuntu4) ...\n",
      "Hit:1 https://developer.download.nvidia.com/compute/cuda/repos/ubuntu2204/x86_64  InRelease\n",
      "Hit:2 https://deb.nodesource.com/node_18.x nodistro InRelease\n",
      "Get:3 https://download.docker.com/linux/ubuntu jammy InRelease [48.8 kB]\n",
      "Hit:4 http://archive.ubuntu.com/ubuntu jammy InRelease\n",
      "Get:5 http://security.ubuntu.com/ubuntu jammy-security InRelease [129 kB]\n",
      "Hit:6 http://archive.ubuntu.com/ubuntu jammy-updates InRelease\n",
      "Get:7 https://download.docker.com/linux/ubuntu jammy/stable amd64 Packages [44.0 kB]\n",
      "Hit:8 http://archive.ubuntu.com/ubuntu jammy-backports InRelease\n",
      "Fetched 222 kB in 1s (259 kB/s)\n",
      "Reading package lists...\n",
      "Reading package lists...\n",
      "Building dependency tree...\n",
      "Reading state information...\n",
      "The following additional packages will be installed:\n",
      "  docker-buildx-plugin docker-compose-plugin\n",
      "The following NEW packages will be installed:\n",
      "  docker-buildx-plugin docker-ce-cli docker-compose-plugin\n",
      "0 upgraded, 3 newly installed, 0 to remove and 56 not upgraded.\n",
      "Need to get 57.0 MB of archives.\n",
      "After this operation, 185 MB of additional disk space will be used.\n",
      "Get:1 https://download.docker.com/linux/ubuntu jammy/stable amd64 docker-buildx-plugin amd64 0.16.1-1~ubuntu.22.04~jammy [29.9 MB]\n",
      "Get:2 https://download.docker.com/linux/ubuntu jammy/stable amd64 docker-ce-cli amd64 5:27.1.1-1~ubuntu.22.04~jammy [14.6 MB]\n",
      "Get:3 https://download.docker.com/linux/ubuntu jammy/stable amd64 docker-compose-plugin amd64 2.29.1-1~ubuntu.22.04~jammy [12.5 MB]\n"
     ]
    },
    {
     "name": "stderr",
     "output_type": "stream",
     "text": [
      "debconf: unable to initialize frontend: Dialog\n",
      "debconf: (No usable dialog-like program is installed, so the dialog based frontend cannot be used. at /usr/share/perl5/Debconf/FrontEnd/Dialog.pm line 78, <> line 3.)\n",
      "debconf: falling back to frontend: Readline\n",
      "debconf: unable to initialize frontend: Readline\n",
      "debconf: (This frontend requires a controlling tty.)\n",
      "debconf: falling back to frontend: Teletype\n",
      "dpkg-preconfigure: unable to re-open stdin: \n"
     ]
    },
    {
     "name": "stdout",
     "output_type": "stream",
     "text": [
      "Fetched 57.0 MB in 1s (40.4 MB/s)\n",
      "Selecting previously unselected package docker-buildx-plugin.\n",
      "(Reading database ... 38586 files and directories currently installed.)\n",
      "Preparing to unpack .../docker-buildx-plugin_0.16.1-1~ubuntu.22.04~jammy_amd64.deb ...\n",
      "Unpacking docker-buildx-plugin (0.16.1-1~ubuntu.22.04~jammy) ...\n",
      "Selecting previously unselected package docker-ce-cli.\n",
      "Preparing to unpack .../docker-ce-cli_5%3a27.1.1-1~ubuntu.22.04~jammy_amd64.deb ...\n",
      "Unpacking docker-ce-cli (5:27.1.1-1~ubuntu.22.04~jammy) ...\n",
      "Selecting previously unselected package docker-compose-plugin.\n",
      "Preparing to unpack .../docker-compose-plugin_2.29.1-1~ubuntu.22.04~jammy_amd64.deb ...\n",
      "Unpacking docker-compose-plugin (2.29.1-1~ubuntu.22.04~jammy) ...\n",
      "Setting up docker-buildx-plugin (0.16.1-1~ubuntu.22.04~jammy) ...\n",
      "Setting up docker-compose-plugin (2.29.1-1~ubuntu.22.04~jammy) ...\n",
      "Setting up docker-ce-cli (5:27.1.1-1~ubuntu.22.04~jammy) ...\n",
      "Installing NGC CLI...\n",
      "Downloading .nemo model. This might take a few minutes...\n",
      "Script execution completed.\n"
     ]
    }
   ],
   "source": [
    "%%bash\n",
    "\n",
    "wget https://raw.githubusercontent.com/brevdev/notebooks/main/assets/setup-ngc.sh -O setup-ngc\n",
    "chmod +x setup-ngc\n",
    "./setup-ngc"
   ]
  },
  {
   "cell_type": "markdown",
   "metadata": {},
   "source": [
    "## Setup Llama3.1 NIM"
   ]
  },
  {
   "cell_type": "code",
   "execution_count": 2,
   "metadata": {},
   "outputs": [
    {
     "name": "stderr",
     "output_type": "stream",
     "text": [
      "WARNING! Your password will be stored unencrypted in /root/.docker/config.json.\n",
      "Configure a credential helper to remove this warning. See\n",
      "https://docs.docker.com/engine/reference/commandline/login/#credential-stores\n",
      "\n"
     ]
    },
    {
     "name": "stdout",
     "output_type": "stream",
     "text": [
      "Login Succeeded\n"
     ]
    },
    {
     "name": "stderr",
     "output_type": "stream",
     "text": [
      "Unable to find image 'nvcr.io/nim/meta/llama-3.1-8b-instruct:1.1.0' locally\n",
      "1.1.0: Pulling from nim/meta/llama-3.1-8b-instruct\n",
      "cbe3537751ce: Pulling fs layer\n",
      "d67fcc6ef577: Pulling fs layer\n",
      "47ee674c5713: Pulling fs layer\n",
      "63daa0e64b30: Pulling fs layer\n",
      "d9d9aecefab5: Pulling fs layer\n",
      "b377c960b7f3: Pulling fs layer\n",
      "071105f39313: Pulling fs layer\n",
      "18049dd7c352: Pulling fs layer\n",
      "071c1099eccd: Pulling fs layer\n",
      "161ecdfb16f0: Pulling fs layer\n",
      "fcfb2ec1ba22: Pulling fs layer\n",
      "154e691e00a7: Pulling fs layer\n",
      "9d18af386bf6: Pulling fs layer\n",
      "f1d9f7beba6e: Pulling fs layer\n",
      "0c951f04c367: Pulling fs layer\n",
      "fb6fbd97005b: Pulling fs layer\n",
      "431acb0bc035: Pulling fs layer\n",
      "38697a17baff: Pulling fs layer\n",
      "f9aeba7169f2: Pulling fs layer\n",
      "cfc9a1f4fc10: Pulling fs layer\n",
      "cfdd2bb2b4a6: Pulling fs layer\n",
      "c396a58289c6: Pulling fs layer\n",
      "e8839de7b7ae: Pulling fs layer\n",
      "7941e23182d8: Pulling fs layer\n",
      "0372c9b9cb47: Pulling fs layer\n",
      "dfedf8154b02: Pulling fs layer\n",
      "659b21d9411d: Pulling fs layer\n",
      "160151d7ae7f: Pulling fs layer\n",
      "fa2e0b787aaa: Pulling fs layer\n",
      "63daa0e64b30: Waiting\n",
      "d9d9aecefab5: Waiting\n",
      "b377c960b7f3: Waiting\n",
      "071105f39313: Waiting\n",
      "18049dd7c352: Waiting\n",
      "071c1099eccd: Waiting\n",
      "161ecdfb16f0: Waiting\n",
      "fcfb2ec1ba22: Waiting\n",
      "154e691e00a7: Waiting\n",
      "9d18af386bf6: Waiting\n",
      "f1d9f7beba6e: Waiting\n",
      "0c951f04c367: Waiting\n",
      "fb6fbd97005b: Waiting\n",
      "431acb0bc035: Waiting\n",
      "38697a17baff: Waiting\n",
      "f9aeba7169f2: Waiting\n",
      "cfc9a1f4fc10: Waiting\n",
      "cfdd2bb2b4a6: Waiting\n",
      "c396a58289c6: Waiting\n",
      "659b21d9411d: Waiting\n",
      "e8839de7b7ae: Waiting\n",
      "7941e23182d8: Waiting\n",
      "160151d7ae7f: Waiting\n",
      "0372c9b9cb47: Waiting\n",
      "fa2e0b787aaa: Waiting\n",
      "dfedf8154b02: Waiting\n",
      "d67fcc6ef577: Verifying Checksum\n",
      "d67fcc6ef577: Download complete\n",
      "cbe3537751ce: Download complete\n",
      "63daa0e64b30: Verifying Checksum\n",
      "63daa0e64b30: Download complete\n",
      "47ee674c5713: Verifying Checksum\n",
      "47ee674c5713: Download complete\n",
      "d9d9aecefab5: Download complete\n",
      "b377c960b7f3: Download complete\n",
      "cbe3537751ce: Pull complete\n",
      "d67fcc6ef577: Pull complete\n",
      "071105f39313: Verifying Checksum\n",
      "071105f39313: Download complete\n",
      "071c1099eccd: Verifying Checksum\n",
      "071c1099eccd: Download complete\n",
      "fcfb2ec1ba22: Verifying Checksum\n",
      "fcfb2ec1ba22: Download complete\n",
      "47ee674c5713: Pull complete\n",
      "63daa0e64b30: Pull complete\n",
      "d9d9aecefab5: Pull complete\n",
      "b377c960b7f3: Pull complete\n",
      "154e691e00a7: Download complete\n",
      "071105f39313: Pull complete\n",
      "9d18af386bf6: Verifying Checksum\n",
      "9d18af386bf6: Download complete\n",
      "18049dd7c352: Verifying Checksum\n",
      "18049dd7c352: Download complete\n",
      "f1d9f7beba6e: Verifying Checksum\n",
      "f1d9f7beba6e: Download complete\n",
      "0c951f04c367: Verifying Checksum\n",
      "0c951f04c367: Download complete\n",
      "fb6fbd97005b: Verifying Checksum\n",
      "fb6fbd97005b: Download complete\n",
      "431acb0bc035: Verifying Checksum\n",
      "431acb0bc035: Download complete\n",
      "38697a17baff: Verifying Checksum\n",
      "38697a17baff: Download complete\n",
      "f9aeba7169f2: Verifying Checksum\n",
      "f9aeba7169f2: Download complete\n",
      "cfc9a1f4fc10: Verifying Checksum\n",
      "cfc9a1f4fc10: Download complete\n",
      "cfdd2bb2b4a6: Verifying Checksum\n",
      "cfdd2bb2b4a6: Download complete\n",
      "c396a58289c6: Verifying Checksum\n",
      "c396a58289c6: Download complete\n",
      "18049dd7c352: Pull complete\n",
      "e8839de7b7ae: Download complete\n",
      "071c1099eccd: Pull complete\n",
      "7941e23182d8: Download complete\n",
      "0372c9b9cb47: Download complete\n",
      "dfedf8154b02: Download complete\n",
      "659b21d9411d: Verifying Checksum\n",
      "659b21d9411d: Download complete\n",
      "160151d7ae7f: Verifying Checksum\n",
      "160151d7ae7f: Download complete\n",
      "fa2e0b787aaa: Verifying Checksum\n",
      "fa2e0b787aaa: Download complete\n",
      "161ecdfb16f0: Verifying Checksum\n",
      "161ecdfb16f0: Download complete\n",
      "161ecdfb16f0: Pull complete\n",
      "fcfb2ec1ba22: Pull complete\n",
      "154e691e00a7: Pull complete\n",
      "9d18af386bf6: Pull complete\n",
      "f1d9f7beba6e: Pull complete\n",
      "0c951f04c367: Pull complete\n",
      "fb6fbd97005b: Pull complete\n",
      "431acb0bc035: Pull complete\n",
      "38697a17baff: Pull complete\n",
      "f9aeba7169f2: Pull complete\n",
      "cfc9a1f4fc10: Pull complete\n",
      "cfdd2bb2b4a6: Pull complete\n",
      "c396a58289c6: Pull complete\n",
      "e8839de7b7ae: Pull complete\n",
      "7941e23182d8: Pull complete\n",
      "0372c9b9cb47: Pull complete\n",
      "dfedf8154b02: Pull complete\n",
      "659b21d9411d: Pull complete\n",
      "160151d7ae7f: Pull complete\n",
      "fa2e0b787aaa: Pull complete\n",
      "Digest: sha256:5dbfefe3788551319db70a63607089d4bd1aab4d05940402ab75d6ea5e3d3467\n",
      "Status: Downloaded newer image for nvcr.io/nim/meta/llama-3.1-8b-instruct:1.1.0\n"
     ]
    },
    {
     "name": "stdout",
     "output_type": "stream",
     "text": [
      "8f2e85ee7fc76127fa2a84953308994af36a4efc7d7712d268f9f7db1b89cd87\n",
      "Checking if NIM is up...\n",
      "NIM is not up yet. Checking again in 10 seconds...\n",
      "NIM is not up yet. Checking again in 10 seconds...\n",
      "NIM is not up yet. Checking again in 10 seconds...\n",
      "NIM is not up yet. Checking again in 10 seconds...\n",
      "NIM is not up yet. Checking again in 10 seconds...\n",
      "NIM is not up yet. Checking again in 10 seconds...\n",
      "NIM is not up yet. Checking again in 10 seconds...\n",
      "NIM is not up yet. Checking again in 10 seconds...\n",
      "NIM is not up yet. Checking again in 10 seconds...\n",
      "NIM is not up yet. Checking again in 10 seconds...\n",
      "NIM is not up yet. Checking again in 10 seconds...\n",
      "NIM is not up yet. Checking again in 10 seconds...\n",
      "NIM is not up yet. Checking again in 10 seconds...\n",
      "NIM is not up yet. Checking again in 10 seconds...\n",
      "NIM is not up yet. Checking again in 10 seconds...\n",
      "NIM is not up yet. Checking again in 10 seconds...\n",
      "NIM is not up yet. Checking again in 10 seconds...\n",
      "NIM is not up yet. Checking again in 10 seconds...\n",
      "NIM is not up yet. Checking again in 10 seconds...\n",
      "NIM is not up yet. Checking again in 10 seconds...\n",
      "NIM is not up yet. Checking again in 10 seconds...\n",
      "NIM is not up yet. Checking again in 10 seconds...\n",
      "NIM is not up yet. Checking again in 10 seconds...\n",
      "NIM is not up yet. Checking again in 10 seconds...\n",
      "NIM is not up yet. Checking again in 10 seconds...\n",
      "NIM is not up yet. Checking again in 10 seconds...\n",
      "Process is interrupted.\n"
     ]
    }
   ],
   "source": [
    "%%bash\n",
    "\n",
    "export NGC_API_KEY= # paste your NGC API key here\n",
    "\n",
    "# Log in to NGC\n",
    "echo \"${NGC_API_KEY}\" | docker login nvcr.io -u '$oauthtoken' --password-stdin\n",
    "\n",
    "# Set up NIM cache directory\n",
    "mkdir -p $HOME/.nim-cache\n",
    "\n",
    "docker run -d --rm --name=\"llama\" \\\n",
    "    --network=container:verb-workspace \\\n",
    "    --runtime=nvidia \\\n",
    "    --gpus all \\\n",
    "    --shm-size=16GB \\\n",
    "    -e NGC_API_KEY \\\n",
    "    -v $HOME/.nim-cache:/home/user/.nim-cache \\\n",
    "    -v /home/ubuntu/workspace:/workspace \\\n",
    "    -w /workspace \\\n",
    "    nvcr.io/nim/meta/llama-3.1-8b-instruct:1.1.0\n",
    "\n",
    "# Check if NIM is up\n",
    "echo \"Checking if NIM is up...\"\n",
    "while true; do\n",
    "    if curl -s http://localhost:8000 > /dev/null; then\n",
    "        echo \"NIM has been started successfully!\"\n",
    "        break\n",
    "    else\n",
    "        echo \"NIM is not up yet. Checking again in 10 seconds...\"\n",
    "        sleep 10\n",
    "    fi\n",
    "done"
   ]
  },
  {
   "cell_type": "markdown",
   "metadata": {},
   "source": [
    "## Verify that Llama is Available\n",
    "Specify the client URL to check if Llama3.1 is listening on port 8000"
   ]
  },
  {
   "cell_type": "code",
   "execution_count": 11,
   "metadata": {},
   "outputs": [
    {
     "name": "stdout",
     "output_type": "stream",
     "text": [
      "curl: (7) Failed to connect to localhost port 8000 after 0 ms: Connection refused\n"
     ]
    }
   ],
   "source": [
    "!curl localhost:8000/v1/health/ready"
   ]
  },
  {
   "cell_type": "markdown",
   "metadata": {},
   "source": [
    "## Create Dataset\n",
    "\n",
    "In the following cell, you will see how to chain prompt output to generate datasets automatically."
   ]
  },
  {
   "cell_type": "code",
   "execution_count": 65,
   "metadata": {},
   "outputs": [],
   "source": [
    "from openai import OpenAI\n",
    "import pandas as pd\n",
    "\n",
    "# create empty dataframe \n",
    "data = pd.DataFrame(columns=[\"country\", \"capital\", \"food\"])\n",
    "\n",
    "# specify model location\n",
    "client = OpenAI(\n",
    "  base_url = \"http://localhost:8000/v1\",\n",
    "  api_key = \"not_used\"\n",
    ")\n",
    "\n",
    "def ask_question(user_input):\n",
    "    \n",
    "    # specify model settings\n",
    "    chat_response = client.chat.completions.create(\n",
    "    model=\"meta/llama-3.1-8b-instruct\",\n",
    "    messages=[{\"role\":\"user\",\"content\": user_input}],\n",
    "    temperature=0.5,\n",
    "    top_p=1,\n",
    "    max_tokens=1024,\n",
    "    # return output as a single unit of text\n",
    "    stream=False\n",
    "    )\n",
    "\n",
    "    return chat_response.choices[0].message.content\n",
    "\n",
    "# fetch names of all world countries\n",
    "all_countries = ask_question(\"\"\"\n",
    "names of all countries separated by commas in an alphabetical order.\n",
    "names only, with no other output\n",
    "\"\"\")\n",
    "all_countries = all_countries.split(\", \")\n",
    "\n",
    "# iterate over all country names\n",
    "for i, country in enumerate(all_countries):\n",
    "    # fetch attributes for each country\n",
    "    capital = ask_question(\"what is the capital city of \" + country + \". just the name\")\n",
    "    food = ask_question(\"what is the national food of \" + country + \". just the name\")\n",
    "    # store country and attributes in the pre-defined dataframe\n",
    "    data.loc[i] = [country, capital, food]\n",
    "\n",
    "# save CSV file in the current directory\n",
    "data.to_csv(\"data.csv\", header=None)"
   ]
  },
  {
   "cell_type": "markdown",
   "metadata": {},
   "source": [
    "## Workflow: All Countries Output\n",
    "\n",
    "The next cell was used to customize the all_countries output from the cell above. You don't have to run it as it is already included in the dataset maker code."
   ]
  },
  {
   "cell_type": "code",
   "execution_count": 63,
   "metadata": {},
   "outputs": [
    {
     "name": "stdout",
     "output_type": "stream",
     "text": [
      "['Afghanistan', 'Albania', 'Algeria', 'Andorra', 'Angola', 'Antigua and Barbuda', 'Argentina', 'Armenia', 'Australia', 'Austria', 'Azerbaijan', 'Bahamas', 'Bahrain', 'Bangladesh', 'Barbados', 'Belarus', 'Belgium', 'Belize', 'Benin', 'Bhutan', 'Bolivia', 'Bosnia and Herzegovina', 'Botswana', 'Brazil', 'Brunei', 'Bulgaria', 'Burkina Faso', 'Burundi', 'Cambodia', 'Cameroon', 'Canada', 'Central African Republic', 'Chad', 'Chile', 'China', 'Colombia', 'Comoros', 'Congo', 'Costa Rica', \"Côte d'Ivoire\", 'Croatia', 'Cuba', 'Cyprus', 'Czech Republic', 'Denmark', 'Djibouti', 'Dominica', 'Dominican Republic', 'Ecuador', 'Egypt', 'El Salvador', 'Equatorial Guinea', 'Eritrea', 'Estonia', 'Eswatini', 'Ethiopia', 'Fiji', 'Finland', 'France', 'Gabon', 'Gambia', 'Georgia', 'Germany', 'Ghana', 'Greece', 'Grenada', 'Guatemala', 'Guinea', 'Guinea-Bissau', 'Guyana', 'Haiti', 'Honduras', 'Hungary', 'Iceland', 'India', 'Indonesia', 'Iran', 'Iraq', 'Ireland', 'Israel', 'Italy', 'Jamaica', 'Japan', 'Jordan', 'Kazakhstan', 'Kenya', 'Kiribati', 'North Korea', 'South Korea', 'Kosovo', 'Kuwait', 'Kyrgyzstan', 'Laos', 'Latvia', 'Lebanon', 'Lesotho', 'Liberia', 'Libya', 'Lithuania', 'Luxembourg', 'Macedonia', 'Madagascar', 'Malawi', 'Malaysia', 'Maldives', 'Mali', 'Malta', 'Marshall Islands', 'Mauritania', 'Mauritius', 'Mexico', 'Micronesia', 'Moldova', 'Monaco', 'Mongolia', 'Montenegro', 'Morocco', 'Mozambique', 'Myanmar', 'Namibia', 'Nauru', 'Nepal', 'Netherlands', 'New Zealand', 'Nicaragua', 'Niger', 'Nigeria', 'Norway', 'Oman', 'Pakistan', 'Palau', 'Panama', 'Papua New Guinea', 'Paraguay', 'Peru', 'Philippines', 'Poland', 'Portugal', 'Qatar', 'Romania', 'Russia', 'Rwanda', 'Saint Kitts and Nevis', 'Saint Lucia', 'Saint Vincent and the Grenadines', 'Samoa', 'San Marino', 'Sao Tome and Principe', 'Saudi Arabia', 'Senegal', 'Serbia', 'Seychelles', 'Sierra Leone', 'Singapore', 'Sint Maarten', 'Slovakia', 'Slovenia', 'Solomon Islands', 'Somalia', 'South Africa', 'South Sudan', 'Spain', 'Sri Lanka', 'Sudan', 'Suriname', 'Sweden', 'Switzerland', 'Syria', 'Tajikistan', 'Tanzania', 'Thailand', 'Timor-Leste', 'Togo', 'Tonga', 'Trinidad and Tobago', 'Tunisia', 'Turkey', 'Turkmenistan', 'Tuvalu', 'Uganda', 'Ukraine', 'United Arab Emirates', 'United Kingdom', 'United States', 'Uruguay', 'Uzbekistan', 'Vanuatu', 'Vatican City', 'Venezuela', 'Vietnam', 'Yemen', 'Zambia', 'Zimbabwe']\n"
     ]
    }
   ],
   "source": [
    "all_countries = ask_question(\"\"\"\n",
    "names of all countries separated by commas in an alphabetical order.\n",
    "names only, with no other output\n",
    "\"\"\")\n",
    "all_countries = all_countries.split(\", \")\n",
    "print(all_countries)"
   ]
  },
  {
   "cell_type": "code",
   "execution_count": null,
   "metadata": {},
   "outputs": [],
   "source": []
  }
 ],
 "metadata": {
  "kernelspec": {
   "display_name": "Python 3 (ipykernel)",
   "language": "python",
   "name": "python3"
  },
  "language_info": {
   "codemirror_mode": {
    "name": "ipython",
    "version": 3
   },
   "file_extension": ".py",
   "mimetype": "text/x-python",
   "name": "python",
   "nbconvert_exporter": "python",
   "pygments_lexer": "ipython3",
   "version": "3.10.12"
  }
 },
 "nbformat": 4,
 "nbformat_minor": 4
}
